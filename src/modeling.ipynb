{
 "cells": [
  {
   "cell_type": "code",
   "execution_count": 7,
   "metadata": {},
   "outputs": [],
   "source": [
    "from pathlib import Path\n",
    "\n",
    "import polars as pl\n",
    "from statsmodels.api import MixedLM\n",
    "\n",
    "from utils.metrics_process import read_metrics, get_assistant_data, aggregate_df"
   ]
  },
  {
   "cell_type": "code",
   "execution_count": 8,
   "metadata": {},
   "outputs": [],
   "source": [
    "version  = 3.0"
   ]
  },
  {
   "cell_type": "code",
   "execution_count": 9,
   "metadata": {},
   "outputs": [],
   "source": [
    "metrics_dir = Path.cwd().parents[0] / \"metrics\""
   ]
  },
  {
   "cell_type": "markdown",
   "metadata": {},
   "source": [
    "## Text Stats"
   ]
  },
  {
   "cell_type": "code",
   "execution_count": 10,
   "metadata": {},
   "outputs": [],
   "source": [
    "df = read_metrics(metrics_path=metrics_dir, version=version, metric_types=[\"text_stats\"])\n",
    "assistant_df = get_assistant_data(df)"
   ]
  },
  {
   "cell_type": "code",
   "execution_count": 11,
   "metadata": {},
   "outputs": [
    {
     "data": {
      "text/html": [
       "<div><style>\n",
       ".dataframe > thead > tr,\n",
       ".dataframe > tbody > tr {\n",
       "  text-align: right;\n",
       "  white-space: pre-wrap;\n",
       "}\n",
       "</style>\n",
       "<small>shape: (2_610, 11)</small><table border=\"1\" class=\"dataframe\"><thead><tr><th>role</th><th>content</th><th>model</th><th>group</th><th>id</th><th>fernandez_huerta</th><th>szigriszt_pazos</th><th>gutierrez_polini</th><th>crawford</th><th>flesch_kincaid_grade</th><th>total_message_number</th></tr><tr><td>str</td><td>str</td><td>str</td><td>enum</td><td>str</td><td>f64</td><td>f64</td><td>f64</td><td>f64</td><td>f64</td><td>i64</td></tr></thead><tbody><tr><td>&quot;assistant&quot;</td><td>&quot;Hola! ¿Cómo estás hoy? ¡Bienve…</td><td>&quot;Mistral 7B Instruct v0.3&quot;</td><td>&quot;A1&quot;</td><td>&quot;20250322-203105.json&quot;</td><td>95.97</td><td>91.03</td><td>46.98</td><td>2.7</td><td>7.9</td><td>1</td></tr><tr><td>&quot;assistant&quot;</td><td>&quot;Hola Delia, un placer conocert…</td><td>&quot;Mistral 7B Instruct v0.3&quot;</td><td>&quot;A1&quot;</td><td>&quot;20250322-203105.json&quot;</td><td>95.35</td><td>93.7</td><td>45.53</td><td>2.6</td><td>8.1</td><td>2</td></tr><tr><td>&quot;assistant&quot;</td><td>&quot;Hola Carlos, un placer conocer…</td><td>&quot;Mistral 7B Instruct v0.3&quot;</td><td>&quot;A1&quot;</td><td>&quot;20250322-203105.json&quot;</td><td>102.27</td><td>98.9</td><td>47.92</td><td>2.0</td><td>6.6</td><td>3</td></tr><tr><td>&quot;assistant&quot;</td><td>&quot;Hola Carlos, encantado de cono…</td><td>&quot;Mistral 7B Instruct v0.3&quot;</td><td>&quot;A1&quot;</td><td>&quot;20250322-203105.json&quot;</td><td>88.33</td><td>85.36</td><td>44.72</td><td>3.3</td><td>9.7</td><td>4</td></tr><tr><td>&quot;assistant&quot;</td><td>&quot;Hola Carlos, me parece que est…</td><td>&quot;Mistral 7B Instruct v0.3&quot;</td><td>&quot;A1&quot;</td><td>&quot;20250322-203105.json&quot;</td><td>92.5</td><td>86.05</td><td>45.08</td><td>3.4</td><td>9.2</td><td>5</td></tr><tr><td>&hellip;</td><td>&hellip;</td><td>&hellip;</td><td>&hellip;</td><td>&hellip;</td><td>&hellip;</td><td>&hellip;</td><td>&hellip;</td><td>&hellip;</td><td>&hellip;</td><td>&hellip;</td></tr><tr><td>&quot;assistant&quot;</td><td>&quot;¡Perfecto! Eso suena como una …</td><td>&quot;Qwen 2.5 7B Instruct&quot;</td><td>&quot;C1&quot;</td><td>&quot;20250326-024438.json&quot;</td><td>102.27</td><td>99.78</td><td>44.16</td><td>1.9</td><td>6.6</td><td>5</td></tr><tr><td>&quot;assistant&quot;</td><td>&quot;¡Muy bien hecho! Has corregido…</td><td>&quot;Qwen 2.5 7B Instruct&quot;</td><td>&quot;C1&quot;</td><td>&quot;20250326-024438.json&quot;</td><td>95.66</td><td>89.54</td><td>40.12</td><td>2.8</td><td>8.0</td><td>6</td></tr><tr><td>&quot;assistant&quot;</td><td>&quot;¡Felicidades! Has hecho un exc…</td><td>&quot;Qwen 2.5 7B Instruct&quot;</td><td>&quot;C1&quot;</td><td>&quot;20250326-024438.json&quot;</td><td>74.91</td><td>73.2</td><td>33.82</td><td>4.4</td><td>12.6</td><td>7</td></tr><tr><td>&quot;assistant&quot;</td><td>&quot;¡Perfecto! Practicar con el ve…</td><td>&quot;Qwen 2.5 7B Instruct&quot;</td><td>&quot;C1&quot;</td><td>&quot;20250326-024438.json&quot;</td><td>96.48</td><td>92.74</td><td>40.28</td><td>2.4</td><td>7.7</td><td>8</td></tr><tr><td>&quot;assistant&quot;</td><td>&quot;¡Muy bien! Revisemos cada orac…</td><td>&quot;Qwen 2.5 7B Instruct&quot;</td><td>&quot;C1&quot;</td><td>&quot;20250326-024438.json&quot;</td><td>86.7</td><td>85.54</td><td>39.05</td><td>3.5</td><td>10.3</td><td>9</td></tr></tbody></table></div>"
      ],
      "text/plain": [
       "shape: (2_610, 11)\n",
       "┌───────────┬────────────┬────────────┬───────┬───┬────────────┬──────────┬────────────┬───────────┐\n",
       "│ role      ┆ content    ┆ model      ┆ group ┆ … ┆ gutierrez_ ┆ crawford ┆ flesch_kin ┆ total_mes │\n",
       "│ ---       ┆ ---        ┆ ---        ┆ ---   ┆   ┆ polini     ┆ ---      ┆ caid_grade ┆ sage_numb │\n",
       "│ str       ┆ str        ┆ str        ┆ enum  ┆   ┆ ---        ┆ f64      ┆ ---        ┆ er        │\n",
       "│           ┆            ┆            ┆       ┆   ┆ f64        ┆          ┆ f64        ┆ ---       │\n",
       "│           ┆            ┆            ┆       ┆   ┆            ┆          ┆            ┆ i64       │\n",
       "╞═══════════╪════════════╪════════════╪═══════╪═══╪════════════╪══════════╪════════════╪═══════════╡\n",
       "│ assistant ┆ Hola!      ┆ Mistral 7B ┆ A1    ┆ … ┆ 46.98      ┆ 2.7      ┆ 7.9        ┆ 1         │\n",
       "│           ┆ ¿Cómo      ┆ Instruct   ┆       ┆   ┆            ┆          ┆            ┆           │\n",
       "│           ┆ estás hoy? ┆ v0.3       ┆       ┆   ┆            ┆          ┆            ┆           │\n",
       "│           ┆ ¡Bienve…   ┆            ┆       ┆   ┆            ┆          ┆            ┆           │\n",
       "│ assistant ┆ Hola       ┆ Mistral 7B ┆ A1    ┆ … ┆ 45.53      ┆ 2.6      ┆ 8.1        ┆ 2         │\n",
       "│           ┆ Delia, un  ┆ Instruct   ┆       ┆   ┆            ┆          ┆            ┆           │\n",
       "│           ┆ placer     ┆ v0.3       ┆       ┆   ┆            ┆          ┆            ┆           │\n",
       "│           ┆ conocert…  ┆            ┆       ┆   ┆            ┆          ┆            ┆           │\n",
       "│ assistant ┆ Hola       ┆ Mistral 7B ┆ A1    ┆ … ┆ 47.92      ┆ 2.0      ┆ 6.6        ┆ 3         │\n",
       "│           ┆ Carlos, un ┆ Instruct   ┆       ┆   ┆            ┆          ┆            ┆           │\n",
       "│           ┆ placer     ┆ v0.3       ┆       ┆   ┆            ┆          ┆            ┆           │\n",
       "│           ┆ conocer…   ┆            ┆       ┆   ┆            ┆          ┆            ┆           │\n",
       "│ assistant ┆ Hola       ┆ Mistral 7B ┆ A1    ┆ … ┆ 44.72      ┆ 3.3      ┆ 9.7        ┆ 4         │\n",
       "│           ┆ Carlos,    ┆ Instruct   ┆       ┆   ┆            ┆          ┆            ┆           │\n",
       "│           ┆ encantado  ┆ v0.3       ┆       ┆   ┆            ┆          ┆            ┆           │\n",
       "│           ┆ de cono…   ┆            ┆       ┆   ┆            ┆          ┆            ┆           │\n",
       "│ assistant ┆ Hola       ┆ Mistral 7B ┆ A1    ┆ … ┆ 45.08      ┆ 3.4      ┆ 9.2        ┆ 5         │\n",
       "│           ┆ Carlos, me ┆ Instruct   ┆       ┆   ┆            ┆          ┆            ┆           │\n",
       "│           ┆ parece que ┆ v0.3       ┆       ┆   ┆            ┆          ┆            ┆           │\n",
       "│           ┆ est…       ┆            ┆       ┆   ┆            ┆          ┆            ┆           │\n",
       "│ …         ┆ …          ┆ …          ┆ …     ┆ … ┆ …          ┆ …        ┆ …          ┆ …         │\n",
       "│ assistant ┆ ¡Perfecto! ┆ Qwen 2.5   ┆ C1    ┆ … ┆ 44.16      ┆ 1.9      ┆ 6.6        ┆ 5         │\n",
       "│           ┆ Eso suena  ┆ 7B         ┆       ┆   ┆            ┆          ┆            ┆           │\n",
       "│           ┆ como una … ┆ Instruct   ┆       ┆   ┆            ┆          ┆            ┆           │\n",
       "│ assistant ┆ ¡Muy bien  ┆ Qwen 2.5   ┆ C1    ┆ … ┆ 40.12      ┆ 2.8      ┆ 8.0        ┆ 6         │\n",
       "│           ┆ hecho! Has ┆ 7B         ┆       ┆   ┆            ┆          ┆            ┆           │\n",
       "│           ┆ corregido… ┆ Instruct   ┆       ┆   ┆            ┆          ┆            ┆           │\n",
       "│ assistant ┆ ¡Felicidad ┆ Qwen 2.5   ┆ C1    ┆ … ┆ 33.82      ┆ 4.4      ┆ 12.6       ┆ 7         │\n",
       "│           ┆ es! Has    ┆ 7B         ┆       ┆   ┆            ┆          ┆            ┆           │\n",
       "│           ┆ hecho un   ┆ Instruct   ┆       ┆   ┆            ┆          ┆            ┆           │\n",
       "│           ┆ exc…       ┆            ┆       ┆   ┆            ┆          ┆            ┆           │\n",
       "│ assistant ┆ ¡Perfecto! ┆ Qwen 2.5   ┆ C1    ┆ … ┆ 40.28      ┆ 2.4      ┆ 7.7        ┆ 8         │\n",
       "│           ┆ Practicar  ┆ 7B         ┆       ┆   ┆            ┆          ┆            ┆           │\n",
       "│           ┆ con el ve… ┆ Instruct   ┆       ┆   ┆            ┆          ┆            ┆           │\n",
       "│ assistant ┆ ¡Muy bien! ┆ Qwen 2.5   ┆ C1    ┆ … ┆ 39.05      ┆ 3.5      ┆ 10.3       ┆ 9         │\n",
       "│           ┆ Revisemos  ┆ 7B         ┆       ┆   ┆            ┆          ┆            ┆           │\n",
       "│           ┆ cada orac… ┆ Instruct   ┆       ┆   ┆            ┆          ┆            ┆           │\n",
       "└───────────┴────────────┴────────────┴───────┴───┴────────────┴──────────┴────────────┴───────────┘"
      ]
     },
     "execution_count": 11,
     "metadata": {},
     "output_type": "execute_result"
    }
   ],
   "source": [
    "assistant_df"
   ]
  },
  {
   "cell_type": "code",
   "execution_count": 12,
   "metadata": {},
   "outputs": [
    {
     "name": "stdout",
     "output_type": "stream",
     "text": [
      "\n",
      "Summary:\n",
      "            Mixed Linear Model Regression Results\n",
      "==============================================================\n",
      "Model:            MixedLM Dependent Variable: fernandez_huerta\n",
      "No. Observations: 810     Method:             REML            \n",
      "No. Groups:       90      Scale:              80.2019         \n",
      "Min. group size:  9       Log-Likelihood:     -2957.8821      \n",
      "Max. group size:  9       Converged:          Yes             \n",
      "Mean group size:  9.0                                         \n",
      "--------------------------------------------------------------\n",
      "                 Coef.  Std.Err.    z    P>|z|  [0.025  0.975]\n",
      "--------------------------------------------------------------\n",
      "Intercept        99.063    0.817 121.229 0.000  97.462 100.665\n",
      "group[T.B1]      -5.248    1.156  -4.541 0.000  -7.513  -2.983\n",
      "group[T.C1]     -10.650    1.156  -9.216 0.000 -12.915  -8.385\n",
      "id Var           11.121    0.359                              \n",
      "==============================================================\n",
      "\n",
      "\n",
      "P-values with more precision:\n",
      "Intercept      0.000000\n",
      "group[T.B1]    0.000006\n",
      "group[T.C1]    0.000000\n",
      "id Var         0.000543\n",
      "dtype: float64\n"
     ]
    }
   ],
   "source": [
    "assistant_df = assistant_df.filter(pl.col(\"model\") == \"Qwen 2.5 7B Instruct\")\n",
    "\n",
    "model = MixedLM.from_formula(\"fernandez_huerta ~ group\",  assistant_df.to_pandas(), groups=\"id\", re_formula=\"~1\")\n",
    "results = model.fit()\n",
    "\n",
    "print(\"\\nSummary:\")\n",
    "print(results.summary())\n",
    "\n",
    "p_values = results.pvalues\n",
    "print(\"\\nP-values with more precision:\")\n",
    "print(p_values.round(6))"
   ]
  },
  {
   "cell_type": "markdown",
   "metadata": {},
   "source": [
    "Interpretation\n",
    "- Intercept: Value of fernandez_huerta when group is A1\n",
    "- group[T.B1]: Difference between fernandez_huerta between A1 and B1 \n",
    "- group [T.C1]: Difference between fernandez_huerta between A1 and C1\n",
    "\n"
   ]
  },
  {
   "cell_type": "code",
   "execution_count": 13,
   "metadata": {},
   "outputs": [
    {
     "name": "stdout",
     "output_type": "stream",
     "text": [
      "\n",
      "P-values with more precision:\n",
      "Intercept      0.000000\n",
      "group[T.B1]    0.000006\n",
      "group[T.C1]    0.000000\n",
      "id Var         0.000543\n",
      "dtype: float64\n"
     ]
    }
   ],
   "source": [
    "p_values = results.pvalues\n",
    "print(\"\\nP-values with more precision:\")\n",
    "print(p_values.round(6))"
   ]
  },
  {
   "cell_type": "code",
   "execution_count": 14,
   "metadata": {},
   "outputs": [
    {
     "name": "stdout",
     "output_type": "stream",
     "text": [
      "               Mixed Linear Model Regression Results\n",
      "===================================================================\n",
      "Model:               MixedLM  Dependent Variable:  fernandez_huerta\n",
      "No. Observations:    810      Method:              REML            \n",
      "No. Groups:          90       Scale:               63.8394         \n",
      "Min. group size:     9        Log-Likelihood:      -2876.5360      \n",
      "Max. group size:     9        Converged:           Yes             \n",
      "Mean group size:     9.0                                           \n",
      "-------------------------------------------------------------------\n",
      "                      Coef.  Std.Err.    z    P>|z|  [0.025  0.975]\n",
      "-------------------------------------------------------------------\n",
      "Intercept            106.469    0.981 108.480 0.000 104.545 108.392\n",
      "group[T.B1]           -5.248    1.156  -4.541 0.000  -7.513  -2.983\n",
      "group[T.C1]          -10.650    1.156  -9.216 0.000 -12.915  -8.385\n",
      "total_message_number  -1.481    0.109 -13.622 0.000  -1.694  -1.268\n",
      "id Var                12.938    0.402                              \n",
      "===================================================================\n",
      "\n"
     ]
    }
   ],
   "source": [
    "model = MixedLM.from_formula(\"fernandez_huerta ~ group + total_message_number\",  assistant_df.to_pandas(), groups=\"id\", re_formula=\"~1\")\n",
    "results = model.fit()\n",
    "\n",
    "print(results.summary())"
   ]
  },
  {
   "cell_type": "markdown",
   "metadata": {},
   "source": [
    "Interpretation\n",
    "- Intercept: Value of fernandez_huerta when group is A1 and total message number is 0 (which never happens for us - need to fix)\n"
   ]
  }
 ],
 "metadata": {
  "kernelspec": {
   "display_name": ".venv",
   "language": "python",
   "name": "python3"
  },
  "language_info": {
   "codemirror_mode": {
    "name": "ipython",
    "version": 3
   },
   "file_extension": ".py",
   "mimetype": "text/x-python",
   "name": "python",
   "nbconvert_exporter": "python",
   "pygments_lexer": "ipython3",
   "version": "3.12.3"
  }
 },
 "nbformat": 4,
 "nbformat_minor": 2
}
