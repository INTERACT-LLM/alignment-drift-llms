{
 "cells": [
  {
   "cell_type": "code",
   "execution_count": 10,
   "metadata": {},
   "outputs": [],
   "source": [
    "from pathlib import Path\n",
    "\n",
    "import polars as pl\n",
    "from statsmodels.api import MixedLM\n",
    "\n",
    "from plot_functions import bar_plot, distribution_plot, line_plot_variables, violin_plot, scatter_with_regression\n",
    "from utils.metrics_process import read_metrics, get_assistant_data, aggregate_df"
   ]
  },
  {
   "cell_type": "code",
   "execution_count": null,
   "metadata": {},
   "outputs": [],
   "source": []
  },
  {
   "cell_type": "code",
   "execution_count": 11,
   "metadata": {},
   "outputs": [],
   "source": [
    "version  = 3.0"
   ]
  },
  {
   "cell_type": "code",
   "execution_count": 12,
   "metadata": {},
   "outputs": [],
   "source": [
    "metrics_dir = Path.cwd().parents[0] / \"metrics\"\n",
    "\n",
    "plots_dir = Path.cwd().parents[0] / \"plots\" / f\"v{version}\"\n",
    "\n",
    "curves_dir = plots_dir / \"curves\"\n",
    "barplots_dir = plots_dir / \"barplots\"\n",
    "postags_dir = plots_dir / \"postags\"\n",
    "\n",
    "for dir in [curves_dir, barplots_dir, postags_dir]:\n",
    "    dir.mkdir(parents=True, exist_ok=True)"
   ]
  },
  {
   "cell_type": "markdown",
   "metadata": {},
   "source": [
    "## Text Stats"
   ]
  },
  {
   "cell_type": "code",
   "execution_count": 13,
   "metadata": {},
   "outputs": [],
   "source": [
    "df = read_metrics(metrics_path=metrics_dir, version=version, metric_types=[\"text_stats\"])\n",
    "assistant_df = get_assistant_data(df)"
   ]
  },
  {
   "cell_type": "code",
   "execution_count": 14,
   "metadata": {},
   "outputs": [
    {
     "data": {
      "text/html": [
       "<div><style>\n",
       ".dataframe > thead > tr,\n",
       ".dataframe > tbody > tr {\n",
       "  text-align: right;\n",
       "  white-space: pre-wrap;\n",
       "}\n",
       "</style>\n",
       "<small>shape: (1_215, 11)</small><table border=\"1\" class=\"dataframe\"><thead><tr><th>role</th><th>content</th><th>model</th><th>group</th><th>id</th><th>fernandez_huerta</th><th>szigriszt_pazos</th><th>gutierrez_polini</th><th>crawford</th><th>flesch_kincaid_grade</th><th>total_message_number</th></tr><tr><td>str</td><td>str</td><td>str</td><td>enum</td><td>str</td><td>f64</td><td>f64</td><td>f64</td><td>f64</td><td>f64</td><td>i64</td></tr></thead><tbody><tr><td>&quot;assistant&quot;</td><td>&quot;Hola! ¿Cómo estás hoy? ¡Bienve…</td><td>&quot;Mistral 7B Instruct v0.3&quot;</td><td>&quot;A1&quot;</td><td>&quot;20250322-203105.json&quot;</td><td>95.97</td><td>91.03</td><td>46.98</td><td>2.7</td><td>7.9</td><td>1</td></tr><tr><td>&quot;assistant&quot;</td><td>&quot;Hola Delia, un placer conocert…</td><td>&quot;Mistral 7B Instruct v0.3&quot;</td><td>&quot;A1&quot;</td><td>&quot;20250322-203105.json&quot;</td><td>95.35</td><td>93.7</td><td>45.53</td><td>2.6</td><td>8.1</td><td>2</td></tr><tr><td>&quot;assistant&quot;</td><td>&quot;Hola Carlos, un placer conocer…</td><td>&quot;Mistral 7B Instruct v0.3&quot;</td><td>&quot;A1&quot;</td><td>&quot;20250322-203105.json&quot;</td><td>102.27</td><td>98.9</td><td>47.92</td><td>2.0</td><td>6.6</td><td>3</td></tr><tr><td>&quot;assistant&quot;</td><td>&quot;Hola Carlos, encantado de cono…</td><td>&quot;Mistral 7B Instruct v0.3&quot;</td><td>&quot;A1&quot;</td><td>&quot;20250322-203105.json&quot;</td><td>88.33</td><td>85.36</td><td>44.72</td><td>3.3</td><td>9.7</td><td>4</td></tr><tr><td>&quot;assistant&quot;</td><td>&quot;Hola Carlos, me parece que est…</td><td>&quot;Mistral 7B Instruct v0.3&quot;</td><td>&quot;A1&quot;</td><td>&quot;20250322-203105.json&quot;</td><td>92.5</td><td>86.05</td><td>45.08</td><td>3.4</td><td>9.2</td><td>5</td></tr><tr><td>&hellip;</td><td>&hellip;</td><td>&hellip;</td><td>&hellip;</td><td>&hellip;</td><td>&hellip;</td><td>&hellip;</td><td>&hellip;</td><td>&hellip;</td><td>&hellip;</td><td>&hellip;</td></tr><tr><td>&quot;assistant&quot;</td><td>&quot;¡Qué emocionante! Los senderos…</td><td>&quot;Qwen 2.5 7B Instruct&quot;</td><td>&quot;C1&quot;</td><td>&quot;20250323-021522.json&quot;</td><td>85.07</td><td>81.23</td><td>39.05</td><td>3.9</td><td>10.9</td><td>5</td></tr><tr><td>&quot;assistant&quot;</td><td>&quot;Estoy totalmente de acuerdo, l…</td><td>&quot;Qwen 2.5 7B Instruct&quot;</td><td>&quot;C1&quot;</td><td>&quot;20250323-021522.json&quot;</td><td>79.77</td><td>75.41</td><td>38.41</td><td>4.4</td><td>12.9</td><td>6</td></tr><tr><td>&quot;assistant&quot;</td><td>&quot;Su análisis del personaje de J…</td><td>&quot;Qwen 2.5 7B Instruct&quot;</td><td>&quot;C1&quot;</td><td>&quot;20250323-021522.json&quot;</td><td>70.81</td><td>68.96</td><td>37.12</td><td>4.8</td><td>15.3</td><td>7</td></tr><tr><td>&quot;assistant&quot;</td><td>&quot;Gracias por tu análisis detall…</td><td>&quot;Qwen 2.5 7B Instruct&quot;</td><td>&quot;C1&quot;</td><td>&quot;20250323-021522.json&quot;</td><td>73.66</td><td>71.08</td><td>37.44</td><td>4.7</td><td>14.2</td><td>8</td></tr><tr><td>&quot;assistant&quot;</td><td>&quot;¡Muchas gracias por tu extenso…</td><td>&quot;Qwen 2.5 7B Instruct&quot;</td><td>&quot;C1&quot;</td><td>&quot;20250323-021522.json&quot;</td><td>77.83</td><td>72.39</td><td>39.35</td><td>4.6</td><td>13.7</td><td>9</td></tr></tbody></table></div>"
      ],
      "text/plain": [
       "shape: (1_215, 11)\n",
       "┌───────────┬────────────┬────────────┬───────┬───┬────────────┬──────────┬────────────┬───────────┐\n",
       "│ role      ┆ content    ┆ model      ┆ group ┆ … ┆ gutierrez_ ┆ crawford ┆ flesch_kin ┆ total_mes │\n",
       "│ ---       ┆ ---        ┆ ---        ┆ ---   ┆   ┆ polini     ┆ ---      ┆ caid_grade ┆ sage_numb │\n",
       "│ str       ┆ str        ┆ str        ┆ enum  ┆   ┆ ---        ┆ f64      ┆ ---        ┆ er        │\n",
       "│           ┆            ┆            ┆       ┆   ┆ f64        ┆          ┆ f64        ┆ ---       │\n",
       "│           ┆            ┆            ┆       ┆   ┆            ┆          ┆            ┆ i64       │\n",
       "╞═══════════╪════════════╪════════════╪═══════╪═══╪════════════╪══════════╪════════════╪═══════════╡\n",
       "│ assistant ┆ Hola!      ┆ Mistral 7B ┆ A1    ┆ … ┆ 46.98      ┆ 2.7      ┆ 7.9        ┆ 1         │\n",
       "│           ┆ ¿Cómo      ┆ Instruct   ┆       ┆   ┆            ┆          ┆            ┆           │\n",
       "│           ┆ estás hoy? ┆ v0.3       ┆       ┆   ┆            ┆          ┆            ┆           │\n",
       "│           ┆ ¡Bienve…   ┆            ┆       ┆   ┆            ┆          ┆            ┆           │\n",
       "│ assistant ┆ Hola       ┆ Mistral 7B ┆ A1    ┆ … ┆ 45.53      ┆ 2.6      ┆ 8.1        ┆ 2         │\n",
       "│           ┆ Delia, un  ┆ Instruct   ┆       ┆   ┆            ┆          ┆            ┆           │\n",
       "│           ┆ placer     ┆ v0.3       ┆       ┆   ┆            ┆          ┆            ┆           │\n",
       "│           ┆ conocert…  ┆            ┆       ┆   ┆            ┆          ┆            ┆           │\n",
       "│ assistant ┆ Hola       ┆ Mistral 7B ┆ A1    ┆ … ┆ 47.92      ┆ 2.0      ┆ 6.6        ┆ 3         │\n",
       "│           ┆ Carlos, un ┆ Instruct   ┆       ┆   ┆            ┆          ┆            ┆           │\n",
       "│           ┆ placer     ┆ v0.3       ┆       ┆   ┆            ┆          ┆            ┆           │\n",
       "│           ┆ conocer…   ┆            ┆       ┆   ┆            ┆          ┆            ┆           │\n",
       "│ assistant ┆ Hola       ┆ Mistral 7B ┆ A1    ┆ … ┆ 44.72      ┆ 3.3      ┆ 9.7        ┆ 4         │\n",
       "│           ┆ Carlos,    ┆ Instruct   ┆       ┆   ┆            ┆          ┆            ┆           │\n",
       "│           ┆ encantado  ┆ v0.3       ┆       ┆   ┆            ┆          ┆            ┆           │\n",
       "│           ┆ de cono…   ┆            ┆       ┆   ┆            ┆          ┆            ┆           │\n",
       "│ assistant ┆ Hola       ┆ Mistral 7B ┆ A1    ┆ … ┆ 45.08      ┆ 3.4      ┆ 9.2        ┆ 5         │\n",
       "│           ┆ Carlos, me ┆ Instruct   ┆       ┆   ┆            ┆          ┆            ┆           │\n",
       "│           ┆ parece que ┆ v0.3       ┆       ┆   ┆            ┆          ┆            ┆           │\n",
       "│           ┆ est…       ┆            ┆       ┆   ┆            ┆          ┆            ┆           │\n",
       "│ …         ┆ …          ┆ …          ┆ …     ┆ … ┆ …          ┆ …        ┆ …          ┆ …         │\n",
       "│ assistant ┆ ¡Qué emoci ┆ Qwen 2.5   ┆ C1    ┆ … ┆ 39.05      ┆ 3.9      ┆ 10.9       ┆ 5         │\n",
       "│           ┆ onante!    ┆ 7B         ┆       ┆   ┆            ┆          ┆            ┆           │\n",
       "│           ┆ Los        ┆ Instruct   ┆       ┆   ┆            ┆          ┆            ┆           │\n",
       "│           ┆ senderos…  ┆            ┆       ┆   ┆            ┆          ┆            ┆           │\n",
       "│ assistant ┆ Estoy      ┆ Qwen 2.5   ┆ C1    ┆ … ┆ 38.41      ┆ 4.4      ┆ 12.9       ┆ 6         │\n",
       "│           ┆ totalmente ┆ 7B         ┆       ┆   ┆            ┆          ┆            ┆           │\n",
       "│           ┆ de         ┆ Instruct   ┆       ┆   ┆            ┆          ┆            ┆           │\n",
       "│           ┆ acuerdo,   ┆            ┆       ┆   ┆            ┆          ┆            ┆           │\n",
       "│           ┆ l…         ┆            ┆       ┆   ┆            ┆          ┆            ┆           │\n",
       "│ assistant ┆ Su         ┆ Qwen 2.5   ┆ C1    ┆ … ┆ 37.12      ┆ 4.8      ┆ 15.3       ┆ 7         │\n",
       "│           ┆ análisis   ┆ 7B         ┆       ┆   ┆            ┆          ┆            ┆           │\n",
       "│           ┆ del        ┆ Instruct   ┆       ┆   ┆            ┆          ┆            ┆           │\n",
       "│           ┆ personaje  ┆            ┆       ┆   ┆            ┆          ┆            ┆           │\n",
       "│           ┆ de J…      ┆            ┆       ┆   ┆            ┆          ┆            ┆           │\n",
       "│ assistant ┆ Gracias    ┆ Qwen 2.5   ┆ C1    ┆ … ┆ 37.44      ┆ 4.7      ┆ 14.2       ┆ 8         │\n",
       "│           ┆ por tu     ┆ 7B         ┆       ┆   ┆            ┆          ┆            ┆           │\n",
       "│           ┆ análisis   ┆ Instruct   ┆       ┆   ┆            ┆          ┆            ┆           │\n",
       "│           ┆ detall…    ┆            ┆       ┆   ┆            ┆          ┆            ┆           │\n",
       "│ assistant ┆ ¡Muchas    ┆ Qwen 2.5   ┆ C1    ┆ … ┆ 39.35      ┆ 4.6      ┆ 13.7       ┆ 9         │\n",
       "│           ┆ gracias    ┆ 7B         ┆       ┆   ┆            ┆          ┆            ┆           │\n",
       "│           ┆ por tu     ┆ Instruct   ┆       ┆   ┆            ┆          ┆            ┆           │\n",
       "│           ┆ extenso…   ┆            ┆       ┆   ┆            ┆          ┆            ┆           │\n",
       "└───────────┴────────────┴────────────┴───────┴───┴────────────┴──────────┴────────────┴───────────┘"
      ]
     },
     "execution_count": 14,
     "metadata": {},
     "output_type": "execute_result"
    }
   ],
   "source": [
    "assistant_df"
   ]
  },
  {
   "cell_type": "code",
   "execution_count": 19,
   "metadata": {},
   "outputs": [
    {
     "name": "stderr",
     "output_type": "stream",
     "text": [
      "/Users/au675000/Desktop/code/prompt-analysis/.venv/lib/python3.12/site-packages/statsmodels/base/model.py:607: ConvergenceWarning: Maximum Likelihood optimization failed to converge. Check mle_retvals\n",
      "  warnings.warn(\"Maximum Likelihood optimization failed to \"\n",
      "/Users/au675000/Desktop/code/prompt-analysis/.venv/lib/python3.12/site-packages/statsmodels/regression/mixed_linear_model.py:2200: ConvergenceWarning: Retrying MixedLM optimization with lbfgs\n",
      "  warnings.warn(\n"
     ]
    },
    {
     "name": "stdout",
     "output_type": "stream",
     "text": [
      "\n",
      "Summary:\n",
      "            Mixed Linear Model Regression Results\n",
      "==============================================================\n",
      "Model:            MixedLM Dependent Variable: fernandez_huerta\n",
      "No. Observations: 405     Method:             REML            \n",
      "No. Groups:       45      Scale:              78.2878         \n",
      "Min. group size:  9       Log-Likelihood:     -1479.9665      \n",
      "Max. group size:  9       Converged:          Yes             \n",
      "Mean group size:  9.0                                         \n",
      "---------------------------------------------------------------\n",
      "              Coef.   Std.Err.    z     P>|z|   [0.025   0.975]\n",
      "---------------------------------------------------------------\n",
      "Intercept     99.106     1.406  70.483  0.000   96.350  101.861\n",
      "group[T.B1]   -5.768     1.989  -2.901  0.004   -9.665   -1.870\n",
      "group[T.C1]  -10.498     1.989  -5.280  0.000  -14.396   -6.601\n",
      "id Var        20.958     1.542                                 \n",
      "==============================================================\n",
      "\n",
      "\n",
      "P-values with more precision:\n",
      "Intercept      0.000000\n",
      "group[T.B1]    0.003725\n",
      "group[T.C1]    0.000000\n",
      "id Var         0.124499\n",
      "dtype: float64\n"
     ]
    }
   ],
   "source": [
    "assistant_df = assistant_df.filter(pl.col(\"model\") == \"Qwen 2.5 7B Instruct\")\n",
    "\n",
    "model = MixedLM.from_formula(\"fernandez_huerta ~ group\",  assistant_df.to_pandas(), groups=\"id\", re_formula=\"~1\")\n",
    "results = model.fit()\n",
    "\n",
    "print(\"\\nSummary:\")\n",
    "print(results.summary())\n",
    "\n",
    "p_values = results.pvalues\n",
    "print(\"\\nP-values with more precision:\")\n",
    "print(p_values.round(6))"
   ]
  },
  {
   "cell_type": "markdown",
   "metadata": {},
   "source": [
    "Interpretation\n",
    "- Intercept: Value of fernandez_huerta when group is A1\n",
    "- group[T.B1]: Difference between fernandez_huerta between A1 and B1 \n",
    "- group [T.C1]: Difference between fernandez_huerta between A1 and C1\n",
    "\n"
   ]
  },
  {
   "cell_type": "code",
   "execution_count": 16,
   "metadata": {},
   "outputs": [
    {
     "name": "stdout",
     "output_type": "stream",
     "text": [
      "\n",
      "P-values with more precision:\n",
      "Intercept      0.000000\n",
      "group[T.B1]    0.003725\n",
      "group[T.C1]    0.000000\n",
      "id Var         0.124499\n",
      "dtype: float64\n"
     ]
    }
   ],
   "source": [
    "p_values = results.pvalues\n",
    "print(\"\\nP-values with more precision:\")\n",
    "print(p_values.round(6))"
   ]
  },
  {
   "cell_type": "code",
   "execution_count": 17,
   "metadata": {},
   "outputs": [
    {
     "name": "stdout",
     "output_type": "stream",
     "text": [
      "               Mixed Linear Model Regression Results\n",
      "===================================================================\n",
      "Model:               MixedLM  Dependent Variable:  fernandez_huerta\n",
      "No. Observations:    405      Method:              REML            \n",
      "No. Groups:          45       Scale:               63.3743         \n",
      "Min. group size:     9        Log-Likelihood:      -1432.7962      \n",
      "Max. group size:     9        Converged:           Yes             \n",
      "Mean group size:     9.0                                           \n",
      "-------------------------------------------------------------------\n",
      "                      Coef.  Std.Err.    z    P>|z|  [0.025  0.975]\n",
      "-------------------------------------------------------------------\n",
      "Intercept            106.945    1.356  78.858 0.000 104.287 109.603\n",
      "group[T.B1]           -5.768    1.583  -3.644 0.000  -8.870  -2.666\n",
      "group[T.C1]          -10.498    1.583  -6.633 0.000 -13.600  -7.396\n",
      "total_message_number  -1.568    0.153 -10.234 0.000  -1.868  -1.268\n",
      "id Var                11.745    0.544                              \n",
      "===================================================================\n",
      "\n"
     ]
    }
   ],
   "source": [
    "model = MixedLM.from_formula(\"fernandez_huerta ~ group + total_message_number\",  assistant_df.to_pandas(), groups=\"id\", re_formula=\"~1\")\n",
    "results = model.fit()\n",
    "\n",
    "print(results.summary())"
   ]
  },
  {
   "cell_type": "markdown",
   "metadata": {},
   "source": [
    "Interpretation\n",
    "- Intercept: Value of fernandez_huerta when group is A1 and total message number is 0 (which never happens for us - need to fix)\n"
   ]
  }
 ],
 "metadata": {
  "kernelspec": {
   "display_name": ".venv",
   "language": "python",
   "name": "python3"
  },
  "language_info": {
   "codemirror_mode": {
    "name": "ipython",
    "version": 3
   },
   "file_extension": ".py",
   "mimetype": "text/x-python",
   "name": "python",
   "nbconvert_exporter": "python",
   "pygments_lexer": "ipython3",
   "version": "3.12.3"
  }
 },
 "nbformat": 4,
 "nbformat_minor": 2
}
